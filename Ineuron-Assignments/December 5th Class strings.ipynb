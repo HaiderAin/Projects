{
 "cells": [
  {
   "cell_type": "code",
   "execution_count": 1,
   "id": "2213f903",
   "metadata": {},
   "outputs": [],
   "source": [
    "s=\"Haider\""
   ]
  },
  {
   "cell_type": "code",
   "execution_count": 2,
   "id": "9b3c7fe9",
   "metadata": {},
   "outputs": [
    {
     "data": {
      "text/plain": [
       "'Haider'"
      ]
     },
     "execution_count": 2,
     "metadata": {},
     "output_type": "execute_result"
    }
   ],
   "source": [
    "s"
   ]
  },
  {
   "cell_type": "code",
   "execution_count": 3,
   "id": "1f822433",
   "metadata": {},
   "outputs": [
    {
     "data": {
      "text/plain": [
       "'H'"
      ]
     },
     "execution_count": 3,
     "metadata": {},
     "output_type": "execute_result"
    }
   ],
   "source": [
    "s[0]"
   ]
  },
  {
   "cell_type": "code",
   "execution_count": 4,
   "id": "a7590fdf",
   "metadata": {},
   "outputs": [
    {
     "data": {
      "text/plain": [
       "'HAIDER'"
      ]
     },
     "execution_count": 4,
     "metadata": {},
     "output_type": "execute_result"
    }
   ],
   "source": [
    "s.upper()"
   ]
  },
  {
   "cell_type": "code",
   "execution_count": 5,
   "id": "ba348ffe",
   "metadata": {},
   "outputs": [
    {
     "data": {
      "text/plain": [
       "'haider'"
      ]
     },
     "execution_count": 5,
     "metadata": {},
     "output_type": "execute_result"
    }
   ],
   "source": [
    "s.lower()"
   ]
  },
  {
   "cell_type": "code",
   "execution_count": 7,
   "id": "d5a4feb3",
   "metadata": {},
   "outputs": [
    {
     "data": {
      "text/plain": [
       "'e'"
      ]
     },
     "execution_count": 7,
     "metadata": {},
     "output_type": "execute_result"
    }
   ],
   "source": [
    "s[-2]"
   ]
  },
  {
   "cell_type": "code",
   "execution_count": 8,
   "id": "84a546fc",
   "metadata": {},
   "outputs": [
    {
     "data": {
      "text/plain": [
       "'r'"
      ]
     },
     "execution_count": 8,
     "metadata": {},
     "output_type": "execute_result"
    }
   ],
   "source": [
    "s[-1] #gives the output from the end of the string"
   ]
  },
  {
   "cell_type": "code",
   "execution_count": 9,
   "id": "cb685c60",
   "metadata": {},
   "outputs": [
    {
     "ename": "IndexError",
     "evalue": "string index out of range",
     "output_type": "error",
     "traceback": [
      "\u001b[1;31m\u001b[0m",
      "\u001b[1;31mIndexError\u001b[0mTraceback (most recent call last)",
      "\u001b[1;32m<ipython-input-9-80f038872218>\u001b[0m in \u001b[0;36m<module>\u001b[1;34m\u001b[0m\n\u001b[1;32m----> 1\u001b[1;33m \u001b[0ms\u001b[0m\u001b[1;33m[\u001b[0m\u001b[1;36m2\u001b[0m\u001b[1;33m]\u001b[0m\u001b[1;33m[\u001b[0m\u001b[1;36m3\u001b[0m\u001b[1;33m]\u001b[0m\u001b[1;33m\u001b[0m\u001b[1;33m\u001b[0m\u001b[0m\n\u001b[0m",
      "\u001b[1;31mIndexError\u001b[0m: string index out of range"
     ]
    }
   ],
   "source": [
    "s[2][3]"
   ]
  },
  {
   "cell_type": "code",
   "execution_count": 10,
   "id": "b29b51cf",
   "metadata": {},
   "outputs": [
    {
     "ename": "IndexError",
     "evalue": "string index out of range",
     "output_type": "error",
     "traceback": [
      "\u001b[1;31m\u001b[0m",
      "\u001b[1;31mIndexError\u001b[0mTraceback (most recent call last)",
      "\u001b[1;32m<ipython-input-10-2a138df92e52>\u001b[0m in \u001b[0;36m<module>\u001b[1;34m\u001b[0m\n\u001b[1;32m----> 1\u001b[1;33m \u001b[0ms\u001b[0m\u001b[1;33m[\u001b[0m\u001b[1;36m100\u001b[0m\u001b[1;33m]\u001b[0m\u001b[1;33m\u001b[0m\u001b[1;33m\u001b[0m\u001b[0m\n\u001b[0m",
      "\u001b[1;31mIndexError\u001b[0m: string index out of range"
     ]
    }
   ],
   "source": [
    "s[100]"
   ]
  },
  {
   "cell_type": "code",
   "execution_count": 11,
   "id": "d88c65f7",
   "metadata": {},
   "outputs": [
    {
     "data": {
      "text/plain": [
       "'Hai'"
      ]
     },
     "execution_count": 11,
     "metadata": {},
     "output_type": "execute_result"
    }
   ],
   "source": [
    "s[:3]  #start from zeroth location and go to 3rd positions but exclude the 3rd position"
   ]
  },
  {
   "cell_type": "code",
   "execution_count": 12,
   "id": "6c8b307f",
   "metadata": {},
   "outputs": [
    {
     "data": {
      "text/plain": [
       "'Hai'"
      ]
     },
     "execution_count": 12,
     "metadata": {},
     "output_type": "execute_result"
    }
   ],
   "source": [
    "s[0:3]  #above one can be written as this "
   ]
  },
  {
   "cell_type": "code",
   "execution_count": 13,
   "id": "bd71369d",
   "metadata": {},
   "outputs": [
    {
     "data": {
      "text/plain": [
       "'i'"
      ]
     },
     "execution_count": 13,
     "metadata": {},
     "output_type": "execute_result"
    }
   ],
   "source": [
    "s[2:3]"
   ]
  },
  {
   "cell_type": "code",
   "execution_count": 14,
   "id": "742b672f",
   "metadata": {},
   "outputs": [
    {
     "data": {
      "text/plain": [
       "'id'"
      ]
     },
     "execution_count": 14,
     "metadata": {},
     "output_type": "execute_result"
    }
   ],
   "source": [
    "s[2:4]"
   ]
  },
  {
   "cell_type": "code",
   "execution_count": 15,
   "id": "712a7a2b",
   "metadata": {},
   "outputs": [
    {
     "ename": "IndexError",
     "evalue": "string index out of range",
     "output_type": "error",
     "traceback": [
      "\u001b[1;31m\u001b[0m",
      "\u001b[1;31mIndexError\u001b[0mTraceback (most recent call last)",
      "\u001b[1;32m<ipython-input-15-492c8e0c87ce>\u001b[0m in \u001b[0;36m<module>\u001b[1;34m\u001b[0m\n\u001b[1;32m----> 1\u001b[1;33m \u001b[0ms\u001b[0m\u001b[1;33m[\u001b[0m\u001b[1;36m100\u001b[0m \u001b[1;33m]\u001b[0m \u001b[1;31m#it will give out of range error\u001b[0m\u001b[1;33m\u001b[0m\u001b[1;33m\u001b[0m\u001b[0m\n\u001b[0m",
      "\u001b[1;31mIndexError\u001b[0m: string index out of range"
     ]
    }
   ],
   "source": [
    "s[100 ] #it will give out of range error"
   ]
  },
  {
   "cell_type": "code",
   "execution_count": 16,
   "id": "c864d121",
   "metadata": {},
   "outputs": [
    {
     "data": {
      "text/plain": [
       "'Haider'"
      ]
     },
     "execution_count": 16,
     "metadata": {},
     "output_type": "execute_result"
    }
   ],
   "source": [
    "s[0:100]  #doesn't give an error because we have given the tow ranges"
   ]
  },
  {
   "cell_type": "code",
   "execution_count": 17,
   "id": "e8898cee",
   "metadata": {},
   "outputs": [
    {
     "ename": "IndexError",
     "evalue": "string index out of range",
     "output_type": "error",
     "traceback": [
      "\u001b[1;31m\u001b[0m",
      "\u001b[1;31mIndexError\u001b[0mTraceback (most recent call last)",
      "\u001b[1;32m<ipython-input-17-3eaddaa60d3d>\u001b[0m in \u001b[0;36m<module>\u001b[1;34m\u001b[0m\n\u001b[1;32m----> 1\u001b[1;33m \u001b[0ms\u001b[0m\u001b[1;33m[\u001b[0m\u001b[1;33m-\u001b[0m\u001b[1;36m100\u001b[0m\u001b[1;33m]\u001b[0m\u001b[1;33m\u001b[0m\u001b[1;33m\u001b[0m\u001b[0m\n\u001b[0m",
      "\u001b[1;31mIndexError\u001b[0m: string index out of range"
     ]
    }
   ],
   "source": [
    "s[-100]"
   ]
  },
  {
   "cell_type": "code",
   "execution_count": 27,
   "id": "08b5a450",
   "metadata": {},
   "outputs": [
    {
     "data": {
      "text/plain": [
       "''"
      ]
     },
     "execution_count": 27,
     "metadata": {},
     "output_type": "execute_result"
    }
   ],
   "source": [
    "s[-1:-4] #why there's no output?\n",
    "##here we are starting from -1 and want to move to -4 but since jump size is not given it will take postive one and move in the positive side"
   ]
  },
  {
   "cell_type": "code",
   "execution_count": 28,
   "id": "d75050f1",
   "metadata": {},
   "outputs": [
    {
     "data": {
      "text/plain": [
       "'red'"
      ]
     },
     "execution_count": 28,
     "metadata": {},
     "output_type": "execute_result"
    }
   ],
   "source": [
    "s[-1:-4:-1]"
   ]
  },
  {
   "cell_type": "code",
   "execution_count": null,
   "id": "987ad896",
   "metadata": {},
   "outputs": [],
   "source": []
  },
  {
   "cell_type": "markdown",
   "id": "5bc5322a",
   "metadata": {},
   "source": [
    "##using skip indexes (step size)"
   ]
  },
  {
   "cell_type": "code",
   "execution_count": 19,
   "id": "95a689d7",
   "metadata": {},
   "outputs": [],
   "source": [
    "s1=\"Everything\""
   ]
  },
  {
   "cell_type": "code",
   "execution_count": 21,
   "id": "ba7bb301",
   "metadata": {},
   "outputs": [
    {
     "data": {
      "text/plain": [
       "'Eeyhn'"
      ]
     },
     "execution_count": 21,
     "metadata": {},
     "output_type": "execute_result"
    }
   ],
   "source": [
    "s1[0:100:2] #here start from zero and jump two locations"
   ]
  },
  {
   "cell_type": "code",
   "execution_count": 22,
   "id": "10377829",
   "metadata": {},
   "outputs": [
    {
     "data": {
      "text/plain": [
       "'Erhg'"
      ]
     },
     "execution_count": 22,
     "metadata": {},
     "output_type": "execute_result"
    }
   ],
   "source": [
    "s1[0:100:3]"
   ]
  },
  {
   "cell_type": "code",
   "execution_count": 23,
   "id": "8e020f7f",
   "metadata": {},
   "outputs": [
    {
     "data": {
      "text/plain": [
       "''"
      ]
     },
     "execution_count": 23,
     "metadata": {},
     "output_type": "execute_result"
    }
   ],
   "source": [
    "s1[0:100:-1] #no output because we are starting from 0 and going till 100(postive side and jumping in the negative side)"
   ]
  },
  {
   "cell_type": "code",
   "execution_count": 24,
   "id": "fab08764",
   "metadata": {},
   "outputs": [
    {
     "data": {
      "text/plain": [
       "'E'"
      ]
     },
     "execution_count": 24,
     "metadata": {},
     "output_type": "execute_result"
    }
   ],
   "source": [
    "s1[0:-100:-1]"
   ]
  },
  {
   "cell_type": "code",
   "execution_count": 29,
   "id": "c28978f5",
   "metadata": {},
   "outputs": [
    {
     "data": {
      "text/plain": [
       "'Everything'"
      ]
     },
     "execution_count": 29,
     "metadata": {},
     "output_type": "execute_result"
    }
   ],
   "source": [
    "s1[::]"
   ]
  },
  {
   "cell_type": "code",
   "execution_count": null,
   "id": "60b9d3bf",
   "metadata": {},
   "outputs": [],
   "source": [
    "#in the above output it starts from 0 and moves one position until the last by default"
   ]
  },
  {
   "cell_type": "code",
   "execution_count": 30,
   "id": "8eebd047",
   "metadata": {},
   "outputs": [
    {
     "data": {
      "text/plain": [
       "'ng'"
      ]
     },
     "execution_count": 30,
     "metadata": {},
     "output_type": "execute_result"
    }
   ],
   "source": [
    "s1[-2:]"
   ]
  },
  {
   "cell_type": "code",
   "execution_count": 31,
   "id": "c965b8e4",
   "metadata": {},
   "outputs": [
    {
     "data": {
      "text/plain": [
       "'n'"
      ]
     },
     "execution_count": 31,
     "metadata": {},
     "output_type": "execute_result"
    }
   ],
   "source": [
    "s1[-2:-1]"
   ]
  },
  {
   "cell_type": "code",
   "execution_count": 32,
   "id": "c46ba733",
   "metadata": {},
   "outputs": [
    {
     "data": {
      "text/plain": [
       "'gnihtyrevE'"
      ]
     },
     "execution_count": 32,
     "metadata": {},
     "output_type": "execute_result"
    }
   ],
   "source": [
    "s1[::-1] #moving in the backward direction(reversal of the character)"
   ]
  },
  {
   "cell_type": "code",
   "execution_count": 33,
   "id": "3b71c39d",
   "metadata": {},
   "outputs": [],
   "source": [
    "#multiplication of a string\n",
    "\n",
    "s2=\"hai\""
   ]
  },
  {
   "cell_type": "code",
   "execution_count": 34,
   "id": "c3fc9f40",
   "metadata": {},
   "outputs": [
    {
     "data": {
      "text/plain": [
       "'haihaihai'"
      ]
     },
     "execution_count": 34,
     "metadata": {},
     "output_type": "execute_result"
    }
   ],
   "source": [
    "s2*3"
   ]
  },
  {
   "cell_type": "code",
   "execution_count": 35,
   "id": "49febc5d",
   "metadata": {},
   "outputs": [
    {
     "data": {
      "text/plain": [
       "'Everythinghai'"
      ]
     },
     "execution_count": 35,
     "metadata": {},
     "output_type": "execute_result"
    }
   ],
   "source": [
    "#concetanation of strings\n",
    "\n",
    "s1+ s2"
   ]
  },
  {
   "cell_type": "code",
   "execution_count": 36,
   "id": "57429786",
   "metadata": {},
   "outputs": [
    {
     "data": {
      "text/plain": [
       "'Everything'"
      ]
     },
     "execution_count": 36,
     "metadata": {},
     "output_type": "execute_result"
    }
   ],
   "source": [
    "#at which index some character is available\n",
    "s1"
   ]
  },
  {
   "cell_type": "code",
   "execution_count": 38,
   "id": "ce67c95f",
   "metadata": {},
   "outputs": [
    {
     "data": {
      "text/plain": [
       "4"
      ]
     },
     "execution_count": 38,
     "metadata": {},
     "output_type": "execute_result"
    }
   ],
   "source": [
    "s1.find('y')  #so 'Y' is a the 4th location"
   ]
  },
  {
   "cell_type": "code",
   "execution_count": 39,
   "id": "f4edf947",
   "metadata": {},
   "outputs": [
    {
     "data": {
      "text/plain": [
       "-1"
      ]
     },
     "execution_count": 39,
     "metadata": {},
     "output_type": "execute_result"
    }
   ],
   "source": [
    "#if some character is not found? It returns mimnus 1\n",
    "\n",
    "s1.find('a')"
   ]
  },
  {
   "cell_type": "code",
   "execution_count": 40,
   "id": "3081df46",
   "metadata": {},
   "outputs": [
    {
     "data": {
      "text/plain": [
       "5"
      ]
     },
     "execution_count": 40,
     "metadata": {},
     "output_type": "execute_result"
    }
   ],
   "source": [
    "#we can even find a string\n",
    "s1.find('th')"
   ]
  },
  {
   "cell_type": "code",
   "execution_count": 45,
   "id": "0148d1f9",
   "metadata": {},
   "outputs": [
    {
     "data": {
      "text/plain": [
       "1"
      ]
     },
     "execution_count": 45,
     "metadata": {},
     "output_type": "execute_result"
    }
   ],
   "source": [
    "#to find number of times a character occur in a string\n",
    "s1.count('e')"
   ]
  },
  {
   "cell_type": "code",
   "execution_count": 46,
   "id": "9e65011c",
   "metadata": {},
   "outputs": [
    {
     "data": {
      "text/plain": [
       "0"
      ]
     },
     "execution_count": 46,
     "metadata": {},
     "output_type": "execute_result"
    }
   ],
   "source": [
    "s1.count('zh')"
   ]
  },
  {
   "cell_type": "code",
   "execution_count": 47,
   "id": "59ea1780",
   "metadata": {},
   "outputs": [
    {
     "data": {
      "text/plain": [
       "['I', 'am', 'new']"
      ]
     },
     "execution_count": 47,
     "metadata": {},
     "output_type": "execute_result"
    }
   ],
   "source": [
    "#splitting a string where it finds an space\n",
    "s3=\"I am new\"\n",
    "s3.split()"
   ]
  },
  {
   "cell_type": "code",
   "execution_count": 48,
   "id": "eb9980bf",
   "metadata": {},
   "outputs": [
    {
     "data": {
      "text/plain": [
       "list"
      ]
     },
     "execution_count": 48,
     "metadata": {},
     "output_type": "execute_result"
    }
   ],
   "source": [
    "type(s2.split())"
   ]
  },
  {
   "cell_type": "code",
   "execution_count": 50,
   "id": "fffbc216",
   "metadata": {},
   "outputs": [
    {
     "data": {
      "text/plain": [
       "['I am ', 'ew']"
      ]
     },
     "execution_count": 50,
     "metadata": {},
     "output_type": "execute_result"
    }
   ],
   "source": [
    "#splitting whenever it find a character\n",
    "s3.split('n')"
   ]
  },
  {
   "cell_type": "code",
   "execution_count": 51,
   "id": "bd4caad2",
   "metadata": {},
   "outputs": [
    {
     "data": {
      "text/plain": [
       "'i AM NEW'"
      ]
     },
     "execution_count": 51,
     "metadata": {},
     "output_type": "execute_result"
    }
   ],
   "source": [
    "#swapcase \n",
    "s3.swapcase()"
   ]
  },
  {
   "cell_type": "code",
   "execution_count": 52,
   "id": "7485da6f",
   "metadata": {},
   "outputs": [],
   "source": [
    "#join function"
   ]
  },
  {
   "cell_type": "code",
   "execution_count": 53,
   "id": "2fc000a4",
   "metadata": {},
   "outputs": [
    {
     "data": {
      "text/plain": [
       "'HhaiEhaiX'"
      ]
     },
     "execution_count": 53,
     "metadata": {},
     "output_type": "execute_result"
    }
   ],
   "source": [
    "s4= \"hai\"\n",
    "s5= \"HEX\"\n",
    "s4.join(s5)"
   ]
  },
  {
   "cell_type": "code",
   "execution_count": 54,
   "id": "3700cc10",
   "metadata": {},
   "outputs": [],
   "source": [
    "#strip function\n",
    "s6= \"  What  \""
   ]
  },
  {
   "cell_type": "code",
   "execution_count": 55,
   "id": "cb608afb",
   "metadata": {},
   "outputs": [
    {
     "data": {
      "text/plain": [
       "'What  '"
      ]
     },
     "execution_count": 55,
     "metadata": {},
     "output_type": "execute_result"
    }
   ],
   "source": [
    "s6.lstrip() #removes space from left side "
   ]
  },
  {
   "cell_type": "code",
   "execution_count": 56,
   "id": "2830da3a",
   "metadata": {},
   "outputs": [
    {
     "data": {
      "text/plain": [
       "'  What'"
      ]
     },
     "execution_count": 56,
     "metadata": {},
     "output_type": "execute_result"
    }
   ],
   "source": [
    "s6.rstrip() #removes space from right side"
   ]
  },
  {
   "cell_type": "code",
   "execution_count": 57,
   "id": "c48c3d5f",
   "metadata": {},
   "outputs": [
    {
     "data": {
      "text/plain": [
       "'What'"
      ]
     },
     "execution_count": 57,
     "metadata": {},
     "output_type": "execute_result"
    }
   ],
   "source": [
    "s6.strip() #removes space from both sides"
   ]
  },
  {
   "cell_type": "code",
   "execution_count": 58,
   "id": "da200d57",
   "metadata": {},
   "outputs": [
    {
     "data": {
      "text/plain": [
       "'  Khat  '"
      ]
     },
     "execution_count": 58,
     "metadata": {},
     "output_type": "execute_result"
    }
   ],
   "source": [
    "s6.replace(\"W\", \"K\")"
   ]
  },
  {
   "cell_type": "code",
   "execution_count": 59,
   "id": "45c02baf",
   "metadata": {},
   "outputs": [
    {
     "data": {
      "text/plain": [
       "'  What  '"
      ]
     },
     "execution_count": 59,
     "metadata": {},
     "output_type": "execute_result"
    }
   ],
   "source": [
    "s6.replace(\"O\", \"K\") #if the original character is not in the string it remains unchanged"
   ]
  },
  {
   "cell_type": "code",
   "execution_count": 60,
   "id": "11b6209e",
   "metadata": {},
   "outputs": [
    {
     "data": {
      "text/plain": [
       "'*****************haider*****************'"
      ]
     },
     "execution_count": 60,
     "metadata": {},
     "output_type": "execute_result"
    }
   ],
   "source": [
    "#centre function\n",
    "s7=\"haider\"\n",
    "s7.center(40,'*')"
   ]
  },
  {
   "cell_type": "code",
   "execution_count": 61,
   "id": "eef483b3",
   "metadata": {},
   "outputs": [
    {
     "data": {
      "text/plain": [
       "'Haider'"
      ]
     },
     "execution_count": 61,
     "metadata": {},
     "output_type": "execute_result"
    }
   ],
   "source": [
    "s7.capitalize()"
   ]
  },
  {
   "cell_type": "code",
   "execution_count": 62,
   "id": "3dc50db4",
   "metadata": {},
   "outputs": [
    {
     "data": {
      "text/plain": [
       "'haider'"
      ]
     },
     "execution_count": 62,
     "metadata": {},
     "output_type": "execute_result"
    }
   ],
   "source": [
    "s7.casefold()"
   ]
  },
  {
   "cell_type": "code",
   "execution_count": 63,
   "id": "0992d6f7",
   "metadata": {},
   "outputs": [
    {
     "data": {
      "text/plain": [
       "b'haider'"
      ]
     },
     "execution_count": 63,
     "metadata": {},
     "output_type": "execute_result"
    }
   ],
   "source": [
    "s7.encode()"
   ]
  },
  {
   "cell_type": "code",
   "execution_count": 64,
   "id": "1b0f079e",
   "metadata": {},
   "outputs": [
    {
     "data": {
      "text/plain": [
       "'haider'"
      ]
     },
     "execution_count": 64,
     "metadata": {},
     "output_type": "execute_result"
    }
   ],
   "source": [
    "s7.format()"
   ]
  },
  {
   "cell_type": "code",
   "execution_count": 65,
   "id": "cfbfc5d6",
   "metadata": {},
   "outputs": [
    {
     "data": {
      "text/plain": [
       "True"
      ]
     },
     "execution_count": 65,
     "metadata": {},
     "output_type": "execute_result"
    }
   ],
   "source": [
    "s7.isalnum()"
   ]
  },
  {
   "cell_type": "markdown",
   "id": "cf6fc5a4",
   "metadata": {},
   "source": [
    "##Lists"
   ]
  },
  {
   "cell_type": "code",
   "execution_count": 67,
   "id": "eed76b8b",
   "metadata": {},
   "outputs": [],
   "source": [
    "list1=[12,1234,\"hasdf\", 123.45]"
   ]
  },
  {
   "cell_type": "code",
   "execution_count": 68,
   "id": "102677ee",
   "metadata": {},
   "outputs": [
    {
     "data": {
      "text/plain": [
       "[12, 1234, 'hasdf', 123.45]"
      ]
     },
     "execution_count": 68,
     "metadata": {},
     "output_type": "execute_result"
    }
   ],
   "source": [
    "list1"
   ]
  },
  {
   "cell_type": "code",
   "execution_count": 69,
   "id": "2a916b4e",
   "metadata": {},
   "outputs": [
    {
     "data": {
      "text/plain": [
       "12"
      ]
     },
     "execution_count": 69,
     "metadata": {},
     "output_type": "execute_result"
    }
   ],
   "source": [
    "list1[0]"
   ]
  },
  {
   "cell_type": "code",
   "execution_count": 71,
   "id": "910ac8bf",
   "metadata": {},
   "outputs": [
    {
     "data": {
      "text/plain": [
       "'hasdf'"
      ]
     },
     "execution_count": 71,
     "metadata": {},
     "output_type": "execute_result"
    }
   ],
   "source": [
    "list1[2]"
   ]
  },
  {
   "cell_type": "code",
   "execution_count": 72,
   "id": "f8c3f304",
   "metadata": {},
   "outputs": [
    {
     "data": {
      "text/plain": [
       "'s'"
      ]
     },
     "execution_count": 72,
     "metadata": {},
     "output_type": "execute_result"
    }
   ],
   "source": [
    "list1[2][2] #accessing the 3rd object of the 3rd element"
   ]
  },
  {
   "cell_type": "code",
   "execution_count": 73,
   "id": "5e0907d5",
   "metadata": {},
   "outputs": [],
   "source": [
    "list2=['sdf',34]"
   ]
  },
  {
   "cell_type": "code",
   "execution_count": 74,
   "id": "8f2844cc",
   "metadata": {},
   "outputs": [
    {
     "data": {
      "text/plain": [
       "[12, 1234, 'hasdf', 123.45, 'sdf', 34]"
      ]
     },
     "execution_count": 74,
     "metadata": {},
     "output_type": "execute_result"
    }
   ],
   "source": [
    "list1 + list2"
   ]
  },
  {
   "cell_type": "code",
   "execution_count": null,
   "id": "cbe10f95",
   "metadata": {},
   "outputs": [],
   "source": []
  },
  {
   "cell_type": "code",
   "execution_count": null,
   "id": "dcf9a01f",
   "metadata": {},
   "outputs": [],
   "source": []
  },
  {
   "cell_type": "code",
   "execution_count": null,
   "id": "fa688301",
   "metadata": {},
   "outputs": [],
   "source": [
    "l"
   ]
  },
  {
   "cell_type": "code",
   "execution_count": null,
   "id": "656e6b45",
   "metadata": {},
   "outputs": [],
   "source": []
  },
  {
   "cell_type": "code",
   "execution_count": null,
   "id": "eaab4d15",
   "metadata": {},
   "outputs": [],
   "source": []
  },
  {
   "cell_type": "code",
   "execution_count": null,
   "id": "e1c76c75",
   "metadata": {},
   "outputs": [],
   "source": []
  },
  {
   "cell_type": "code",
   "execution_count": null,
   "id": "b85bc9b5",
   "metadata": {},
   "outputs": [],
   "source": []
  }
 ],
 "metadata": {
  "kernelspec": {
   "display_name": "Python 3",
   "language": "python",
   "name": "python3"
  },
  "language_info": {
   "codemirror_mode": {
    "name": "ipython",
    "version": 3
   },
   "file_extension": ".py",
   "mimetype": "text/x-python",
   "name": "python",
   "nbconvert_exporter": "python",
   "pygments_lexer": "ipython3",
   "version": "3.8.8"
  }
 },
 "nbformat": 4,
 "nbformat_minor": 5
}
