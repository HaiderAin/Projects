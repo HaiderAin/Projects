{
 "cells": [
  {
   "cell_type": "markdown",
   "id": "3201c299",
   "metadata": {},
   "source": [
    "## Tuple"
   ]
  },
  {
   "cell_type": "code",
   "execution_count": 1,
   "id": "4e852705",
   "metadata": {},
   "outputs": [],
   "source": [
    "#The collection of objects in the normal braces"
   ]
  },
  {
   "cell_type": "code",
   "execution_count": 2,
   "id": "59923b2e",
   "metadata": {},
   "outputs": [],
   "source": [
    "t1=(1,2,3,4,\"hasdhasd\",True)"
   ]
  },
  {
   "cell_type": "code",
   "execution_count": 3,
   "id": "5181b71a",
   "metadata": {},
   "outputs": [
    {
     "data": {
      "text/plain": [
       "(1, 2, 3, 4, 'hasdhasd', True)"
      ]
     },
     "execution_count": 3,
     "metadata": {},
     "output_type": "execute_result"
    }
   ],
   "source": [
    "t1"
   ]
  },
  {
   "cell_type": "code",
   "execution_count": 5,
   "id": "01c94ecc",
   "metadata": {},
   "outputs": [
    {
     "data": {
      "text/plain": [
       "tuple"
      ]
     },
     "execution_count": 5,
     "metadata": {},
     "output_type": "execute_result"
    }
   ],
   "source": [
    "type(t1)"
   ]
  },
  {
   "cell_type": "code",
   "execution_count": 6,
   "id": "4854f8e6",
   "metadata": {},
   "outputs": [
    {
     "data": {
      "text/plain": [
       "(True, 'hasdhasd', 4, 3, 2, 1)"
      ]
     },
     "execution_count": 6,
     "metadata": {},
     "output_type": "execute_result"
    }
   ],
   "source": [
    "t1[::-1]"
   ]
  },
  {
   "cell_type": "code",
   "execution_count": 8,
   "id": "e8f33245",
   "metadata": {},
   "outputs": [
    {
     "data": {
      "text/plain": [
       "True"
      ]
     },
     "execution_count": 8,
     "metadata": {},
     "output_type": "execute_result"
    }
   ],
   "source": [
    "t1[-1]"
   ]
  },
  {
   "cell_type": "code",
   "execution_count": 18,
   "id": "125d8a0a",
   "metadata": {},
   "outputs": [
    {
     "data": {
      "text/plain": [
       "(1, 2, 3, 4, 'hasdhasd', True)"
      ]
     },
     "execution_count": 18,
     "metadata": {},
     "output_type": "execute_result"
    }
   ],
   "source": [
    "t1"
   ]
  },
  {
   "cell_type": "code",
   "execution_count": null,
   "id": "5ff433e8",
   "metadata": {},
   "outputs": [],
   "source": []
  },
  {
   "cell_type": "code",
   "execution_count": 10,
   "id": "9e1bc6d3",
   "metadata": {},
   "outputs": [
    {
     "data": {
      "text/plain": [
       "(1, 3, 'hasdhasd')"
      ]
     },
     "execution_count": 10,
     "metadata": {},
     "output_type": "execute_result"
    }
   ],
   "source": [
    "t1[0::2]"
   ]
  },
  {
   "cell_type": "code",
   "execution_count": 11,
   "id": "ebc213f7",
   "metadata": {},
   "outputs": [
    {
     "ename": "TypeError",
     "evalue": "'tuple' object does not support item assignment",
     "output_type": "error",
     "traceback": [
      "\u001b[1;31m\u001b[0m",
      "\u001b[1;31mTypeError\u001b[0mTraceback (most recent call last)",
      "\u001b[1;32m<ipython-input-11-bbd2e343378f>\u001b[0m in \u001b[0;36m<module>\u001b[1;34m\u001b[0m\n\u001b[1;32m----> 1\u001b[1;33m \u001b[0mt1\u001b[0m\u001b[1;33m[\u001b[0m\u001b[1;36m0\u001b[0m\u001b[1;33m]\u001b[0m\u001b[1;33m=\u001b[0m\u001b[1;34m\"Haider\"\u001b[0m\u001b[1;33m\u001b[0m\u001b[1;33m\u001b[0m\u001b[0m\n\u001b[0m",
      "\u001b[1;31mTypeError\u001b[0m: 'tuple' object does not support item assignment"
     ]
    }
   ],
   "source": [
    "t1[0]=\"Haider\"\n",
    "\n",
    "#The tuple values cannot be reassigned (Immutable)"
   ]
  },
  {
   "cell_type": "code",
   "execution_count": 12,
   "id": "a806b292",
   "metadata": {},
   "outputs": [],
   "source": [
    "t2=(23,325,25,\"sdf\")"
   ]
  },
  {
   "cell_type": "markdown",
   "id": "ec209c33",
   "metadata": {},
   "source": [
    "## "
   ]
  },
  {
   "cell_type": "code",
   "execution_count": 13,
   "id": "b014cc45",
   "metadata": {},
   "outputs": [
    {
     "data": {
      "text/plain": [
       "(23, 325, 25, 'sdf')"
      ]
     },
     "execution_count": 13,
     "metadata": {},
     "output_type": "execute_result"
    }
   ],
   "source": [
    "t2"
   ]
  },
  {
   "cell_type": "code",
   "execution_count": 14,
   "id": "9f814cc6",
   "metadata": {},
   "outputs": [
    {
     "data": {
      "text/plain": [
       "(1, 2, 3, 4, 'hasdhasd', True, 23, 325, 25, 'sdf')"
      ]
     },
     "execution_count": 14,
     "metadata": {},
     "output_type": "execute_result"
    }
   ],
   "source": [
    "#append operations of tuples\n",
    "t1+t2"
   ]
  },
  {
   "cell_type": "code",
   "execution_count": 15,
   "id": "ded2b511",
   "metadata": {},
   "outputs": [
    {
     "data": {
      "text/plain": [
       "(1, 2, 3, 4, 'hasdhasd', True, 1, 2, 3, 4, 'hasdhasd', True)"
      ]
     },
     "execution_count": 15,
     "metadata": {},
     "output_type": "execute_result"
    }
   ],
   "source": [
    "t1*2 #same values are copied twice"
   ]
  },
  {
   "cell_type": "code",
   "execution_count": 20,
   "id": "f9ec49d9",
   "metadata": {},
   "outputs": [
    {
     "data": {
      "text/plain": [
       "0"
      ]
     },
     "execution_count": 20,
     "metadata": {},
     "output_type": "execute_result"
    }
   ],
   "source": [
    "t1.count(0)"
   ]
  },
  {
   "cell_type": "code",
   "execution_count": 21,
   "id": "7db11c38",
   "metadata": {},
   "outputs": [
    {
     "ename": "TypeError",
     "evalue": "index expected at least 1 argument, got 0",
     "output_type": "error",
     "traceback": [
      "\u001b[1;31m\u001b[0m",
      "\u001b[1;31mTypeError\u001b[0mTraceback (most recent call last)",
      "\u001b[1;32m<ipython-input-21-a4af2ae9a54e>\u001b[0m in \u001b[0;36m<module>\u001b[1;34m\u001b[0m\n\u001b[1;32m----> 1\u001b[1;33m \u001b[0mt1\u001b[0m\u001b[1;33m.\u001b[0m\u001b[0mindex\u001b[0m\u001b[1;33m(\u001b[0m\u001b[1;33m)\u001b[0m\u001b[1;33m\u001b[0m\u001b[1;33m\u001b[0m\u001b[0m\n\u001b[0m",
      "\u001b[1;31mTypeError\u001b[0m: index expected at least 1 argument, got 0"
     ]
    }
   ],
   "source": [
    "t1.index()"
   ]
  },
  {
   "cell_type": "code",
   "execution_count": 22,
   "id": "62015e81",
   "metadata": {},
   "outputs": [
    {
     "data": {
      "text/plain": [
       "2"
      ]
     },
     "execution_count": 22,
     "metadata": {},
     "output_type": "execute_result"
    }
   ],
   "source": [
    "t1.index(3)"
   ]
  },
  {
   "cell_type": "markdown",
   "id": "e6067b7d",
   "metadata": {},
   "source": [
    "## Set\n",
    "\n",
    "The collection of objects in the the curly braces"
   ]
  },
  {
   "cell_type": "code",
   "execution_count": 23,
   "id": "38b1ded2",
   "metadata": {},
   "outputs": [],
   "source": [
    "s1={1,2,3}"
   ]
  },
  {
   "cell_type": "code",
   "execution_count": 24,
   "id": "efb29d27",
   "metadata": {},
   "outputs": [
    {
     "data": {
      "text/plain": [
       "set"
      ]
     },
     "execution_count": 24,
     "metadata": {},
     "output_type": "execute_result"
    }
   ],
   "source": [
    "type(s1)"
   ]
  },
  {
   "cell_type": "code",
   "execution_count": 25,
   "id": "7e1dc31a",
   "metadata": {},
   "outputs": [],
   "source": [
    "s2={}"
   ]
  },
  {
   "cell_type": "code",
   "execution_count": 26,
   "id": "f54a5baa",
   "metadata": {},
   "outputs": [
    {
     "data": {
      "text/plain": [
       "dict"
      ]
     },
     "execution_count": 26,
     "metadata": {},
     "output_type": "execute_result"
    }
   ],
   "source": [
    "type(s2)"
   ]
  },
  {
   "cell_type": "code",
   "execution_count": 27,
   "id": "3f6a9581",
   "metadata": {},
   "outputs": [],
   "source": [
    "#if there are no values inside the braces then the object type is curly braces\n"
   ]
  },
  {
   "cell_type": "code",
   "execution_count": 28,
   "id": "aabe26df",
   "metadata": {},
   "outputs": [],
   "source": [
    "#set does not allow the duplicates\n",
    "\n",
    "s3={1,2,3,3,4,5,6,6,6}"
   ]
  },
  {
   "cell_type": "code",
   "execution_count": 29,
   "id": "540c4229",
   "metadata": {},
   "outputs": [
    {
     "data": {
      "text/plain": [
       "{1, 2, 3, 4, 5, 6}"
      ]
     },
     "execution_count": 29,
     "metadata": {},
     "output_type": "execute_result"
    }
   ],
   "source": [
    "s3"
   ]
  },
  {
   "cell_type": "code",
   "execution_count": 30,
   "id": "81f1e835",
   "metadata": {},
   "outputs": [
    {
     "ename": "TypeError",
     "evalue": "'set' object is not subscriptable",
     "output_type": "error",
     "traceback": [
      "\u001b[1;31m\u001b[0m",
      "\u001b[1;31mTypeError\u001b[0mTraceback (most recent call last)",
      "\u001b[1;32m<ipython-input-30-e48481fcb92e>\u001b[0m in \u001b[0;36m<module>\u001b[1;34m\u001b[0m\n\u001b[1;32m----> 1\u001b[1;33m \u001b[0ms3\u001b[0m\u001b[1;33m[\u001b[0m\u001b[1;36m0\u001b[0m\u001b[1;33m]\u001b[0m\u001b[1;33m\u001b[0m\u001b[1;33m\u001b[0m\u001b[0m\n\u001b[0m",
      "\u001b[1;31mTypeError\u001b[0m: 'set' object is not subscriptable"
     ]
    }
   ],
   "source": [
    "s3[0] "
   ]
  },
  {
   "cell_type": "markdown",
   "id": "9f63f901",
   "metadata": {},
   "source": [
    "## The objects are unorderd therefore cannot be indexed, Then how to access the objects?"
   ]
  },
  {
   "cell_type": "code",
   "execution_count": 32,
   "id": "65d45802",
   "metadata": {},
   "outputs": [
    {
     "data": {
      "text/plain": [
       "[1, 2, 3, 4, 5, 6]"
      ]
     },
     "execution_count": 32,
     "metadata": {},
     "output_type": "execute_result"
    }
   ],
   "source": [
    "list(s3) #now can be accessed using the index now the property of the set is gone"
   ]
  },
  {
   "cell_type": "code",
   "execution_count": 33,
   "id": "9f70e9d0",
   "metadata": {},
   "outputs": [
    {
     "data": {
      "text/plain": [
       "{1, 2, 3, 4, 5, 6}"
      ]
     },
     "execution_count": 33,
     "metadata": {},
     "output_type": "execute_result"
    }
   ],
   "source": [
    "s3"
   ]
  },
  {
   "cell_type": "code",
   "execution_count": 34,
   "id": "c37e18f4",
   "metadata": {},
   "outputs": [],
   "source": [
    "s3.add(\"kumar\")"
   ]
  },
  {
   "cell_type": "code",
   "execution_count": 35,
   "id": "c393f8f0",
   "metadata": {},
   "outputs": [
    {
     "data": {
      "text/plain": [
       "{1, 2, 3, 4, 5, 6, 'kumar'}"
      ]
     },
     "execution_count": 35,
     "metadata": {},
     "output_type": "execute_result"
    }
   ],
   "source": [
    "s3"
   ]
  },
  {
   "cell_type": "code",
   "execution_count": 36,
   "id": "e0d5fc88",
   "metadata": {},
   "outputs": [
    {
     "ename": "TypeError",
     "evalue": "unhashable type: 'list'",
     "output_type": "error",
     "traceback": [
      "\u001b[1;31m\u001b[0m",
      "\u001b[1;31mTypeError\u001b[0mTraceback (most recent call last)",
      "\u001b[1;32m<ipython-input-36-77d72f0cb8fa>\u001b[0m in \u001b[0;36m<module>\u001b[1;34m\u001b[0m\n\u001b[1;32m----> 1\u001b[1;33m \u001b[0ms3\u001b[0m\u001b[1;33m.\u001b[0m\u001b[0madd\u001b[0m\u001b[1;33m(\u001b[0m\u001b[1;33m[\u001b[0m\u001b[1;36m1\u001b[0m\u001b[1;33m,\u001b[0m\u001b[1;36m24\u001b[0m\u001b[1;33m,\u001b[0m\u001b[1;36m4\u001b[0m\u001b[1;33m,\u001b[0m\u001b[1;36m5\u001b[0m\u001b[1;33m]\u001b[0m\u001b[1;33m)\u001b[0m\u001b[1;33m\u001b[0m\u001b[1;33m\u001b[0m\u001b[0m\n\u001b[0m",
      "\u001b[1;31mTypeError\u001b[0m: unhashable type: 'list'"
     ]
    }
   ],
   "source": [
    "s3.add([1,24,4,5])"
   ]
  },
  {
   "cell_type": "code",
   "execution_count": null,
   "id": "f4d221d6",
   "metadata": {},
   "outputs": [],
   "source": [
    "#we cannot add the list inside the set because list is order collection of items. Means list are immutable"
   ]
  },
  {
   "cell_type": "code",
   "execution_count": 37,
   "id": "9f919e13",
   "metadata": {},
   "outputs": [],
   "source": [
    "s3.add((1,2,3)) #tuples are allowed"
   ]
  },
  {
   "cell_type": "code",
   "execution_count": 38,
   "id": "1284e2d1",
   "metadata": {},
   "outputs": [
    {
     "data": {
      "text/plain": [
       "{(1, 2, 3), 1, 2, 3, 4, 5, 6, 'kumar'}"
      ]
     },
     "execution_count": 38,
     "metadata": {},
     "output_type": "execute_result"
    }
   ],
   "source": [
    "s3"
   ]
  },
  {
   "cell_type": "code",
   "execution_count": 39,
   "id": "2bcb95a0",
   "metadata": {},
   "outputs": [
    {
     "data": {
      "text/plain": [
       "{(1, 2, 3), 1, 2, 3, 4, 5, 6, 'kumar'}"
      ]
     },
     "execution_count": 39,
     "metadata": {},
     "output_type": "execute_result"
    }
   ],
   "source": [
    "s3.copy()"
   ]
  },
  {
   "cell_type": "code",
   "execution_count": 40,
   "id": "0a386981",
   "metadata": {},
   "outputs": [],
   "source": [
    "s3.remove(1) #removes the mentioned element but not from nested collection"
   ]
  },
  {
   "cell_type": "code",
   "execution_count": 41,
   "id": "fa61d69c",
   "metadata": {},
   "outputs": [
    {
     "data": {
      "text/plain": [
       "{(1, 2, 3), 2, 3, 4, 5, 6, 'kumar'}"
      ]
     },
     "execution_count": 41,
     "metadata": {},
     "output_type": "execute_result"
    }
   ],
   "source": [
    "s3"
   ]
  },
  {
   "cell_type": "code",
   "execution_count": 42,
   "id": "fa8f6728",
   "metadata": {},
   "outputs": [],
   "source": [
    "s3.discard(2)"
   ]
  },
  {
   "cell_type": "code",
   "execution_count": 43,
   "id": "56444411",
   "metadata": {},
   "outputs": [
    {
     "data": {
      "text/plain": [
       "{(1, 2, 3), 3, 4, 5, 6, 'kumar'}"
      ]
     },
     "execution_count": 43,
     "metadata": {},
     "output_type": "execute_result"
    }
   ],
   "source": [
    "s3"
   ]
  },
  {
   "cell_type": "code",
   "execution_count": 45,
   "id": "c7d70f4d",
   "metadata": {},
   "outputs": [],
   "source": [
    "s3.discard(45)"
   ]
  },
  {
   "cell_type": "code",
   "execution_count": 46,
   "id": "c3f51e42",
   "metadata": {},
   "outputs": [
    {
     "data": {
      "text/plain": [
       "{(1, 2, 3), 3, 4, 5, 6, 'kumar'}"
      ]
     },
     "execution_count": 46,
     "metadata": {},
     "output_type": "execute_result"
    }
   ],
   "source": [
    "s3"
   ]
  },
  {
   "cell_type": "code",
   "execution_count": 47,
   "id": "84eaceb8",
   "metadata": {},
   "outputs": [
    {
     "ename": "KeyError",
     "evalue": "45",
     "output_type": "error",
     "traceback": [
      "\u001b[1;31m\u001b[0m",
      "\u001b[1;31mKeyError\u001b[0mTraceback (most recent call last)",
      "\u001b[1;32m<ipython-input-47-bee435bdb2d3>\u001b[0m in \u001b[0;36m<module>\u001b[1;34m\u001b[0m\n\u001b[1;32m----> 1\u001b[1;33m \u001b[0ms3\u001b[0m\u001b[1;33m.\u001b[0m\u001b[0mremove\u001b[0m\u001b[1;33m(\u001b[0m\u001b[1;36m45\u001b[0m\u001b[1;33m)\u001b[0m\u001b[1;33m\u001b[0m\u001b[1;33m\u001b[0m\u001b[0m\n\u001b[0m",
      "\u001b[1;31mKeyError\u001b[0m: 45"
     ]
    }
   ],
   "source": [
    "s3.remove(45) #remove gives an error if the element is not found"
   ]
  },
  {
   "cell_type": "markdown",
   "id": "aad5999f",
   "metadata": {},
   "source": [
    "## Dictionary\n",
    "The collection of the items in key value fashion inside curly braces\n"
   ]
  },
  {
   "cell_type": "code",
   "execution_count": 48,
   "id": "170030b9",
   "metadata": {},
   "outputs": [],
   "source": [
    "d={}"
   ]
  },
  {
   "cell_type": "code",
   "execution_count": 49,
   "id": "5a7aa44b",
   "metadata": {},
   "outputs": [
    {
     "data": {
      "text/plain": [
       "dict"
      ]
     },
     "execution_count": 49,
     "metadata": {},
     "output_type": "execute_result"
    }
   ],
   "source": [
    "type(d)"
   ]
  },
  {
   "cell_type": "code",
   "execution_count": 51,
   "id": "0136ce9a",
   "metadata": {},
   "outputs": [],
   "source": [
    "d={'name':'Haider', 'Mob':'998654775', 45:[4,54,68]}"
   ]
  },
  {
   "cell_type": "code",
   "execution_count": 52,
   "id": "fda563c5",
   "metadata": {},
   "outputs": [
    {
     "data": {
      "text/plain": [
       "{'name': 'Haider', 'Mob': '998654775', 45: [4, 54, 68]}"
      ]
     },
     "execution_count": 52,
     "metadata": {},
     "output_type": "execute_result"
    }
   ],
   "source": [
    "d "
   ]
  },
  {
   "cell_type": "code",
   "execution_count": 53,
   "id": "0a4c6107",
   "metadata": {},
   "outputs": [
    {
     "data": {
      "text/plain": [
       "<function dict.keys>"
      ]
     },
     "execution_count": 53,
     "metadata": {},
     "output_type": "execute_result"
    }
   ],
   "source": [
    "d.keys"
   ]
  },
  {
   "cell_type": "code",
   "execution_count": 56,
   "id": "6fb7cb88",
   "metadata": {},
   "outputs": [
    {
     "data": {
      "text/plain": [
       "'Haider'"
      ]
     },
     "execution_count": 56,
     "metadata": {},
     "output_type": "execute_result"
    }
   ],
   "source": [
    "d['name']  #the values are accessed with the help of key but not with indexes"
   ]
  },
  {
   "cell_type": "code",
   "execution_count": 57,
   "id": "1b78bd12",
   "metadata": {},
   "outputs": [
    {
     "data": {
      "text/plain": [
       "[4, 54, 68]"
      ]
     },
     "execution_count": 57,
     "metadata": {},
     "output_type": "execute_result"
    }
   ],
   "source": [
    "d[45]"
   ]
  },
  {
   "cell_type": "code",
   "execution_count": 58,
   "id": "2d824fd2",
   "metadata": {},
   "outputs": [
    {
     "data": {
      "text/plain": [
       "list"
      ]
     },
     "execution_count": 58,
     "metadata": {},
     "output_type": "execute_result"
    }
   ],
   "source": [
    "type(d[45])"
   ]
  },
  {
   "cell_type": "code",
   "execution_count": null,
   "id": "f16c92b6",
   "metadata": {},
   "outputs": [],
   "source": [
    "#the keys must not be special characters"
   ]
  },
  {
   "cell_type": "code",
   "execution_count": null,
   "id": "574ef4d0",
   "metadata": {},
   "outputs": [],
   "source": [
    "#when the keys are duplicated it will hold the latest value and not the old one"
   ]
  },
  {
   "cell_type": "code",
   "execution_count": 60,
   "id": "1baf1ede",
   "metadata": {},
   "outputs": [],
   "source": [
    "d1={'name': 'Haider', 'Mob': '998654775', 45: [4, 54, 68],'name':'kumar'}"
   ]
  },
  {
   "cell_type": "code",
   "execution_count": 62,
   "id": "0c6a257c",
   "metadata": {},
   "outputs": [
    {
     "data": {
      "text/plain": [
       "'kumar'"
      ]
     },
     "execution_count": 62,
     "metadata": {},
     "output_type": "execute_result"
    }
   ],
   "source": [
    "d1['name'] #second balue is printed"
   ]
  },
  {
   "cell_type": "code",
   "execution_count": null,
   "id": "9fbaf47e",
   "metadata": {},
   "outputs": [],
   "source": [
    "#the values may be duplicate."
   ]
  },
  {
   "cell_type": "code",
   "execution_count": 65,
   "id": "d62dadac",
   "metadata": {},
   "outputs": [],
   "source": [
    "d2={'name': 'Haider', 'Mob': '998654775', 45: [4, 54, 68],'firstname':'Haider'}"
   ]
  },
  {
   "cell_type": "code",
   "execution_count": 67,
   "id": "50c85c55",
   "metadata": {},
   "outputs": [
    {
     "data": {
      "text/plain": [
       "'Haider'"
      ]
     },
     "execution_count": 67,
     "metadata": {},
     "output_type": "execute_result"
    }
   ],
   "source": [
    "d2['firstname']"
   ]
  },
  {
   "cell_type": "code",
   "execution_count": 68,
   "id": "50c1a6d0",
   "metadata": {},
   "outputs": [
    {
     "data": {
      "text/plain": [
       "dict_items([('name', 'Haider'), ('Mob', '998654775'), (45, [4, 54, 68]), ('firstname', 'Haider')])"
      ]
     },
     "execution_count": 68,
     "metadata": {},
     "output_type": "execute_result"
    }
   ],
   "source": [
    "d2.items()"
   ]
  },
  {
   "cell_type": "code",
   "execution_count": 70,
   "id": "845c2927",
   "metadata": {},
   "outputs": [],
   "source": [
    "#adding an item to the dictionary\n",
    "\n",
    "d2['city']='Ranchi'"
   ]
  },
  {
   "cell_type": "code",
   "execution_count": 71,
   "id": "c0a0ae3b",
   "metadata": {},
   "outputs": [
    {
     "data": {
      "text/plain": [
       "{'name': 'Haider',\n",
       " 'Mob': '998654775',\n",
       " 45: [4, 54, 68],\n",
       " 'firstname': 'Haider',\n",
       " 'city': 'Ranchi'}"
      ]
     },
     "execution_count": 71,
     "metadata": {},
     "output_type": "execute_result"
    }
   ],
   "source": [
    "d2"
   ]
  },
  {
   "cell_type": "code",
   "execution_count": 73,
   "id": "073a01a9",
   "metadata": {},
   "outputs": [],
   "source": [
    "#deleting a key\n",
    "del d2['name']"
   ]
  },
  {
   "cell_type": "code",
   "execution_count": 74,
   "id": "4590fa6a",
   "metadata": {},
   "outputs": [
    {
     "data": {
      "text/plain": [
       "{'Mob': '998654775', 45: [4, 54, 68], 'firstname': 'Haider', 'city': 'Ranchi'}"
      ]
     },
     "execution_count": 74,
     "metadata": {},
     "output_type": "execute_result"
    }
   ],
   "source": [
    "d2"
   ]
  },
  {
   "cell_type": "code",
   "execution_count": 75,
   "id": "61c4a921",
   "metadata": {},
   "outputs": [
    {
     "data": {
      "text/plain": [
       "{'name': 'Haider', 'Mob': '998654775', 45: [4, 54, 68]}"
      ]
     },
     "execution_count": 75,
     "metadata": {},
     "output_type": "execute_result"
    }
   ],
   "source": [
    "d"
   ]
  },
  {
   "cell_type": "code",
   "execution_count": 76,
   "id": "a239e131",
   "metadata": {},
   "outputs": [],
   "source": [
    "del d"
   ]
  },
  {
   "cell_type": "code",
   "execution_count": 77,
   "id": "a129df60",
   "metadata": {},
   "outputs": [
    {
     "ename": "NameError",
     "evalue": "name 'd' is not defined",
     "output_type": "error",
     "traceback": [
      "\u001b[1;31m\u001b[0m",
      "\u001b[1;31mNameError\u001b[0mTraceback (most recent call last)",
      "\u001b[1;32m<ipython-input-77-e983f374794d>\u001b[0m in \u001b[0;36m<module>\u001b[1;34m\u001b[0m\n\u001b[1;32m----> 1\u001b[1;33m \u001b[0md\u001b[0m\u001b[1;33m\u001b[0m\u001b[1;33m\u001b[0m\u001b[0m\n\u001b[0m",
      "\u001b[1;31mNameError\u001b[0m: name 'd' is not defined"
     ]
    }
   ],
   "source": [
    "d"
   ]
  },
  {
   "cell_type": "code",
   "execution_count": null,
   "id": "62233873",
   "metadata": {},
   "outputs": [],
   "source": [
    "#NameError: name 'd' is not defined, as the dictionary is deleted"
   ]
  },
  {
   "cell_type": "code",
   "execution_count": 79,
   "id": "6f78c2e2",
   "metadata": {},
   "outputs": [
    {
     "ename": "TypeError",
     "evalue": "unhashable type: 'list'",
     "output_type": "error",
     "traceback": [
      "\u001b[1;31m\u001b[0m",
      "\u001b[1;31mTypeError\u001b[0mTraceback (most recent call last)",
      "\u001b[1;32m<ipython-input-79-e6e2fe96408b>\u001b[0m in \u001b[0;36m<module>\u001b[1;34m\u001b[0m\n\u001b[0;32m      1\u001b[0m \u001b[1;31m#can we use list as a key?\u001b[0m\u001b[1;33m\u001b[0m\u001b[1;33m\u001b[0m\u001b[1;33m\u001b[0m\u001b[0m\n\u001b[0;32m      2\u001b[0m \u001b[1;33m\u001b[0m\u001b[0m\n\u001b[1;32m----> 3\u001b[1;33m \u001b[0md3\u001b[0m\u001b[1;33m=\u001b[0m\u001b[1;33m{\u001b[0m\u001b[1;33m[\u001b[0m\u001b[1;34m'Mob'\u001b[0m\u001b[1;33m,\u001b[0m \u001b[1;36m123\u001b[0m\u001b[1;33m]\u001b[0m\u001b[1;33m:\u001b[0m\u001b[1;36m654775\u001b[0m\u001b[1;33m}\u001b[0m\u001b[1;33m\u001b[0m\u001b[1;33m\u001b[0m\u001b[0m\n\u001b[0m",
      "\u001b[1;31mTypeError\u001b[0m: unhashable type: 'list'"
     ]
    }
   ],
   "source": [
    "#can we use list as a key?\n",
    "\n",
    "#ans: NO\n",
    "d3={['Mob', 123]:654775}"
   ]
  },
  {
   "cell_type": "code",
   "execution_count": 80,
   "id": "7dbc1f53",
   "metadata": {},
   "outputs": [],
   "source": [
    "#however tuples will work as it is immutable element\n",
    "\n",
    "d4={('Mob', 123):654775}"
   ]
  },
  {
   "cell_type": "code",
   "execution_count": 81,
   "id": "512d00a0",
   "metadata": {},
   "outputs": [
    {
     "data": {
      "text/plain": [
       "{('Mob', 123): 654775}"
      ]
     },
     "execution_count": 81,
     "metadata": {},
     "output_type": "execute_result"
    }
   ],
   "source": [
    "d4"
   ]
  },
  {
   "cell_type": "code",
   "execution_count": 82,
   "id": "96f5050a",
   "metadata": {},
   "outputs": [
    {
     "data": {
      "text/plain": [
       "{'Mob': '998654775', 45: [4, 54, 68], 'firstname': 'Haider', 'city': 'Ranchi'}"
      ]
     },
     "execution_count": 82,
     "metadata": {},
     "output_type": "execute_result"
    }
   ],
   "source": [
    "d2"
   ]
  },
  {
   "cell_type": "code",
   "execution_count": 83,
   "id": "44433945",
   "metadata": {},
   "outputs": [
    {
     "data": {
      "text/plain": [
       "'998654775'"
      ]
     },
     "execution_count": 83,
     "metadata": {},
     "output_type": "execute_result"
    }
   ],
   "source": [
    "d2.get(\"Mob\")"
   ]
  },
  {
   "cell_type": "code",
   "execution_count": 84,
   "id": "4e978e0a",
   "metadata": {},
   "outputs": [
    {
     "data": {
      "text/plain": [
       "{'4': None, '5': None}"
      ]
     },
     "execution_count": 84,
     "metadata": {},
     "output_type": "execute_result"
    }
   ],
   "source": [
    "d2.fromkeys('45')"
   ]
  },
  {
   "cell_type": "code",
   "execution_count": 85,
   "id": "3acf8390",
   "metadata": {},
   "outputs": [],
   "source": [
    "d2.update(d1)  #it appends"
   ]
  },
  {
   "cell_type": "code",
   "execution_count": 86,
   "id": "ced66969",
   "metadata": {},
   "outputs": [
    {
     "data": {
      "text/plain": [
       "{'name': 'kumar', 'Mob': '998654775', 45: [4, 54, 68]}"
      ]
     },
     "execution_count": 86,
     "metadata": {},
     "output_type": "execute_result"
    }
   ],
   "source": [
    "d1"
   ]
  },
  {
   "cell_type": "code",
   "execution_count": 87,
   "id": "991a40b5",
   "metadata": {},
   "outputs": [
    {
     "data": {
      "text/plain": [
       "dict_values(['998654775', [4, 54, 68], 'Haider', 'Ranchi', 'kumar'])"
      ]
     },
     "execution_count": 87,
     "metadata": {},
     "output_type": "execute_result"
    }
   ],
   "source": [
    "d2.values()"
   ]
  },
  {
   "cell_type": "code",
   "execution_count": 88,
   "id": "eb153ef2",
   "metadata": {},
   "outputs": [
    {
     "ename": "TypeError",
     "evalue": "unsupported operand type(s) for +: 'dict' and 'dict'",
     "output_type": "error",
     "traceback": [
      "\u001b[1;31m\u001b[0m",
      "\u001b[1;31mTypeError\u001b[0mTraceback (most recent call last)",
      "\u001b[1;32m<ipython-input-88-2b1627949555>\u001b[0m in \u001b[0;36m<module>\u001b[1;34m\u001b[0m\n\u001b[1;32m----> 1\u001b[1;33m \u001b[0md2\u001b[0m \u001b[1;33m+\u001b[0m \u001b[0md2\u001b[0m\u001b[1;33m\u001b[0m\u001b[1;33m\u001b[0m\u001b[0m\n\u001b[0m",
      "\u001b[1;31mTypeError\u001b[0m: unsupported operand type(s) for +: 'dict' and 'dict'"
     ]
    }
   ],
   "source": [
    "d2 + d2 #cannot add therefore we have update function"
   ]
  },
  {
   "cell_type": "code",
   "execution_count": 89,
   "id": "2bab3428",
   "metadata": {},
   "outputs": [
    {
     "data": {
      "text/plain": [
       "'D:\\\\GitHub\\\\Projects\\\\Ineuron-Assignments'"
      ]
     },
     "execution_count": 89,
     "metadata": {},
     "output_type": "execute_result"
    }
   ],
   "source": [
    "pwd()"
   ]
  },
  {
   "cell_type": "code",
   "execution_count": null,
   "id": "0fa81fa9",
   "metadata": {},
   "outputs": [],
   "source": []
  },
  {
   "cell_type": "code",
   "execution_count": null,
   "id": "a098fa8b",
   "metadata": {},
   "outputs": [],
   "source": []
  }
 ],
 "metadata": {
  "kernelspec": {
   "display_name": "Python 3",
   "language": "python",
   "name": "python3"
  },
  "language_info": {
   "codemirror_mode": {
    "name": "ipython",
    "version": 3
   },
   "file_extension": ".py",
   "mimetype": "text/x-python",
   "name": "python",
   "nbconvert_exporter": "python",
   "pygments_lexer": "ipython3",
   "version": "3.8.8"
  }
 },
 "nbformat": 4,
 "nbformat_minor": 5
}
