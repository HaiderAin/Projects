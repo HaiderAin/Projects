{
 "cells": [
  {
   "cell_type": "markdown",
   "id": "38369d9b",
   "metadata": {},
   "source": [
    "## Qurratulain Haider:Full Stack Developer Nov 27Th Batch\n"
   ]
  },
  {
   "cell_type": "code",
   "execution_count": null,
   "id": "e9e79abb",
   "metadata": {},
   "outputs": [],
   "source": []
  },
  {
   "cell_type": "markdown",
   "id": "d94a5517",
   "metadata": {},
   "source": [
    "## 1. In the below elements which of them are values or an expression? eg:- values can be integer or string and expressions will be mathematical operators.\n",
    "\n",
    "* \n",
    "'hello'\n",
    "-87.8\n",
    "- \n",
    "/ \n",
    "+\n",
    "6"
   ]
  },
  {
   "cell_type": "markdown",
   "id": "287f694a",
   "metadata": {},
   "source": [
    "Answer: \n",
    "\n",
    "* -- Expression (Multiplication)\n",
    "'hello' -- String\n",
    "-87.8  -- Float\n",
    "- #expression\n",
    "/  --Expression \n",
    "+  -- Expression \n",
    "6  -- Integer\n",
    "\n"
   ]
  },
  {
   "cell_type": "markdown",
   "id": "6fc84021",
   "metadata": {},
   "source": [
    "## 2. What is the difference between string and variable?\n",
    "## Answer: \n",
    "String : String is a datatype in Python. It is enclosed inside the single or double quotes. \n",
    "eg : \"Hello World\", \"Hi, I'm good\", \"2325\", 'Thank you'\n",
    "\n",
    "Variable : Is is the memory allocated to store the values. The values can be used multiple times in a code for various operations by calling the variable it is assigned to. The variables enables us to reuse a value for multiple times. \n",
    "\n",
    "eg:\n",
    "\n",
    "name=\"Kumar\"\n",
    "a=12\n",
    "b=23.45 etc\n"
   ]
  },
  {
   "cell_type": "code",
   "execution_count": null,
   "id": "362d62c5",
   "metadata": {},
   "outputs": [],
   "source": []
  },
  {
   "cell_type": "markdown",
   "id": "ec830e24",
   "metadata": {},
   "source": [
    "## 3. Describe three different data types.\n",
    "\n",
    "## Answer:\n",
    "## 1. Number.\n",
    "\n",
    "The number data types in Python are basically of 3 types. Integer, float and Complex Numbers\n",
    "Integers are whole numbers without decimal whereas the float contains a number with decimal . \n",
    "\n",
    "Besides Integer and Float the complex numbers have two parts real and imaginary numbers.\n",
    "\n",
    "Eg:\n",
    "\n",
    "12 --- Integer\n",
    "12.25 --Float\n",
    "12+4j ---Complex\n",
    "\n",
    "\n",
    "## 2.Boolean:\n",
    "The Boolean data type in python  holds two types of predefined values True and False. Boolean can be used to evalaute non boolean or boolean data types expressions where it returns True or False based upon the condition.\n",
    "\n",
    "## 3.Set:\n",
    " Set is a collection of unordered data types. It is represented in curly braces. Set is immutable .The items inside the set not indexed therefore it cannot be accessed using indices.\n",
    "\n"
   ]
  },
  {
   "cell_type": "markdown",
   "id": "5011ae98",
   "metadata": {},
   "source": [
    "## 4. What is an expression made up of? What do all expressions do?\n",
    "\n",
    "## Answer:\n",
    "An expression is made up of various mathematical operators. The expression is used to evaluate some outcome from given set of values or conditions. \n",
    "\n",
    "Eg:\n",
    "\n",
    "(1+3) * (3/4) + (2**3)"
   ]
  },
  {
   "cell_type": "markdown",
   "id": "985e226e",
   "metadata": {},
   "source": [
    "## 5. This assignment statements, like spam = 10. What is the difference between an expression and a statement?\n",
    "\n",
    "## Answer\n",
    "\n",
    "Expression: The expression evaluates for any kind of outcome like float, integer and boolean .\n",
    "\n",
    "Statement: A statement can hold some value (like variable) or can be used to evaluate a Boolean Value\n",
    "\n"
   ]
  },
  {
   "cell_type": "markdown",
   "id": "c13053a4",
   "metadata": {},
   "source": [
    "## 6. After running the following code, what does the variable bacon contain?\n",
    "bacon = 22\n",
    "\n",
    "bacon + 1\n",
    "\n",
    "## Answer:\n",
    "It contains the value 22. Ran the code below. We are just incrementing the value by 1 but not storing the new value in the varibale bacon\n"
   ]
  },
  {
   "cell_type": "code",
   "execution_count": 2,
   "id": "7663d9f0",
   "metadata": {},
   "outputs": [
    {
     "data": {
      "text/plain": [
       "23"
      ]
     },
     "execution_count": 2,
     "metadata": {},
     "output_type": "execute_result"
    }
   ],
   "source": [
    "bacon=22\n",
    "bacon +1"
   ]
  },
  {
   "cell_type": "code",
   "execution_count": 3,
   "id": "3fafb157",
   "metadata": {},
   "outputs": [
    {
     "data": {
      "text/plain": [
       "22"
      ]
     },
     "execution_count": 3,
     "metadata": {},
     "output_type": "execute_result"
    }
   ],
   "source": [
    "bacon"
   ]
  },
  {
   "cell_type": "markdown",
   "id": "571e4ab3",
   "metadata": {},
   "source": [
    "## 7. What should the values of the following two terms be?\n",
    "'spam' + 'spamspam'\n",
    "\n",
    "\n",
    "'spam' * 3\n"
   ]
  },
  {
   "cell_type": "markdown",
   "id": "a01cec8a",
   "metadata": {},
   "source": [
    "## Answer: \n",
    "The output in both cases will be 'spamspamspam'. Please check the output below"
   ]
  },
  {
   "cell_type": "code",
   "execution_count": 6,
   "id": "a6048ed6",
   "metadata": {},
   "outputs": [
    {
     "data": {
      "text/plain": [
       "'spamspamspam'"
      ]
     },
     "execution_count": 6,
     "metadata": {},
     "output_type": "execute_result"
    }
   ],
   "source": [
    "'spam' + 'spamspam'"
   ]
  },
  {
   "cell_type": "code",
   "execution_count": 7,
   "id": "61fdb882",
   "metadata": {},
   "outputs": [
    {
     "data": {
      "text/plain": [
       "'spamspamspam'"
      ]
     },
     "execution_count": 7,
     "metadata": {},
     "output_type": "execute_result"
    }
   ],
   "source": [
    "'spam' * 3"
   ]
  },
  {
   "cell_type": "markdown",
   "id": "b272673e",
   "metadata": {},
   "source": [
    "## 8. Why is eggs a valid variable name while 100 is invalid?\n",
    "\n",
    "## Answer\n",
    "\n",
    "Python allows a string value should be assigned as a variable but and integer cannot be assigned to as variable.\n",
    "We we keep 100 as a variable it will throw \"SyntaxError: cannot assign to literal\" error. Refer the output below\n",
    "\n"
   ]
  },
  {
   "cell_type": "code",
   "execution_count": 9,
   "id": "5002abfa",
   "metadata": {},
   "outputs": [],
   "source": [
    "eggs=10"
   ]
  },
  {
   "cell_type": "code",
   "execution_count": 14,
   "id": "8438bd2f",
   "metadata": {},
   "outputs": [
    {
     "ename": "SyntaxError",
     "evalue": "cannot assign to literal (<ipython-input-14-0fcb9fa005f2>, line 1)",
     "output_type": "error",
     "traceback": [
      "\u001b[1;36m  File \u001b[1;32m\"<ipython-input-14-0fcb9fa005f2>\"\u001b[1;36m, line \u001b[1;32m1\u001b[0m\n\u001b[1;33m    100=\"Century\"\u001b[0m\n\u001b[1;37m    ^\u001b[0m\n\u001b[1;31mSyntaxError\u001b[0m\u001b[1;31m:\u001b[0m cannot assign to literal\n"
     ]
    }
   ],
   "source": [
    "100=\"Century\""
   ]
  },
  {
   "cell_type": "markdown",
   "id": "9669411b",
   "metadata": {},
   "source": [
    "## 9. What three functions can be used to get the integer, floating-point number, or string version of a value?\n",
    "\n",
    "## Ans\n",
    "\n",
    "int()\n",
    "\n",
    "float()\n",
    "\n",
    "str()\n",
    "\n"
   ]
  },
  {
   "cell_type": "markdown",
   "id": "cfa250ed",
   "metadata": {},
   "source": [
    "## 10. Why does this expression cause an error? How can you fix it?\n",
    "\n",
    "'I have eaten ' + 99 + ' burritos.'\n",
    "\n",
    "## Ans\n",
    "\n",
    "Only str data types can be concatenated.We can change the int to str and then concatenate \n"
   ]
  },
  {
   "cell_type": "code",
   "execution_count": 11,
   "id": "e84ba1f6",
   "metadata": {},
   "outputs": [
    {
     "ename": "TypeError",
     "evalue": "can only concatenate str (not \"int\") to str",
     "output_type": "error",
     "traceback": [
      "\u001b[1;31m\u001b[0m",
      "\u001b[1;31mTypeError\u001b[0mTraceback (most recent call last)",
      "\u001b[1;32m<ipython-input-11-d24137131a5c>\u001b[0m in \u001b[0;36m<module>\u001b[1;34m\u001b[0m\n\u001b[1;32m----> 1\u001b[1;33m \u001b[1;34m'I have eaten '\u001b[0m \u001b[1;33m+\u001b[0m \u001b[1;36m99\u001b[0m \u001b[1;33m+\u001b[0m \u001b[1;34m' burritos.'\u001b[0m\u001b[1;33m\u001b[0m\u001b[1;33m\u001b[0m\u001b[0m\n\u001b[0m",
      "\u001b[1;31mTypeError\u001b[0m: can only concatenate str (not \"int\") to str"
     ]
    }
   ],
   "source": [
    "#errornours code\n",
    "\n",
    "'I have eaten ' + 99 + ' burritos.'"
   ]
  },
  {
   "cell_type": "code",
   "execution_count": 12,
   "id": "815f8b8f",
   "metadata": {},
   "outputs": [
    {
     "data": {
      "text/plain": [
       "'I have eaten 99 burritos.'"
      ]
     },
     "execution_count": 12,
     "metadata": {},
     "output_type": "execute_result"
    }
   ],
   "source": [
    "#Solution\n",
    "'I have eaten ' + str (99) + ' burritos.'\n"
   ]
  }
 ],
 "metadata": {
  "kernelspec": {
   "display_name": "Python 3",
   "language": "python",
   "name": "python3"
  },
  "language_info": {
   "codemirror_mode": {
    "name": "ipython",
    "version": 3
   },
   "file_extension": ".py",
   "mimetype": "text/x-python",
   "name": "python",
   "nbconvert_exporter": "python",
   "pygments_lexer": "ipython3",
   "version": "3.8.8"
  }
 },
 "nbformat": 4,
 "nbformat_minor": 5
}
